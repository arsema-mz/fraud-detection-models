{
 "cells": [
  {
   "cell_type": "markdown",
   "id": "dc4efdf7",
   "metadata": {},
   "source": [
    "Training Logistic Regression model...\n",
    "Logistic Regression model trained.\n",
    "Training Random Forest model...\n",
    "Random Forest model trained.\n",
    "\n",
    "Evaluating Logistic Regression...\n",
    "[[26920   473]\n",
    " [ 1243  1587]]\n",
    "              precision    recall  f1-score   support\n",
    "\n",
    "           0       0.96      0.98      0.97     27393\n",
    "           1       0.77      0.56      0.65      2830\n",
    "\n",
    "    accuracy                           0.94     30223\n",
    "   macro avg       0.86      0.77      0.81     30223\n",
    "weighted avg       0.94      0.94      0.94     30223\n",
    "\n",
    "AUC-ROC: 0.8362136183201223\n",
    "F1-Score: 0.649079754601227\n",
    "\n",
    "Evaluating Random Forest...\n",
    "[[27267   126]\n",
    " [ 1327  1503]]\n",
    "              precision    recall  f1-score   support\n",
    "\n",
    "           0       0.95      1.00      0.97     27393\n",
    "           1       0.92      0.53      0.67      2830\n",
    "\n",
    "    accuracy                           0.95     30223\n",
    "   macro avg       0.94      0.76      0.82     30223\n",
    "weighted avg       0.95      0.95      0.95     30223\n",
    "\n",
    "AUC-ROC: 0.8430368969194497\n",
    "F1-Score: 0.6741421843462659\n",
    "\n",
    "Model training and evaluation complete."
   ]
  }
 ],
 "metadata": {
  "language_info": {
   "name": "python"
  }
 },
 "nbformat": 4,
 "nbformat_minor": 5
}
