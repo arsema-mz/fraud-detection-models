{
 "cells": [
  {
   "cell_type": "markdown",
   "id": "f2a657db",
   "metadata": {},
   "source": [
    "## Task 3 - Model Explainability using SHAP\n",
    "\n",
    "### 1. Load model and data\n",
    "- Load the best model (RF)\n",
    "- Load or prepare X_test\n",
    "\n",
    "### 2. Initialize SHAP Explainer\n",
    "- Use `shap.Explainer(...)` or `TreeExplainer(...)`\n",
    "\n",
    "### 3. Compute SHAP values\n",
    "- Use a sample from X_test for speed\n",
    "\n",
    "### 4. Visualize\n",
    "- Summary Plot (global feature importance)\n",
    "- Bar Plot (feature ranking)\n",
    "- Force Plot (local explanation)\n",
    "\n",
    "### 5. Interpretation\n",
    "- Write markdown to explain what each plot shows\n",
    "- Discuss key features driving fraud predictions\n",
    "\n",
    "### 6. Save Plots\n",
    "- Save as PNGs for use in final PDF or slides\n"
   ]
  },
  {
   "cell_type": "code",
   "execution_count": 2,
   "id": "ccf7b3ba",
   "metadata": {},
   "outputs": [],
   "source": [
    "import os\n",
    "import sys\n",
    "\n",
    "# Change to project root\n",
    "os.chdir(\"..\")  #\n",
    "\n",
    "sys.path.append(\"src\")\n",
    "\n",
    "from load_datas import load_data\n",
    "\n",
    "# Load the data\n",
    "X_train_resampled, y_train, X_test, y_test = load_data()\n"
   ]
  },
  {
   "cell_type": "code",
   "execution_count": 1,
   "id": "0e5cd454",
   "metadata": {},
   "outputs": [
    {
     "name": "stderr",
     "output_type": "stream",
     "text": [
      "c:\\Users\\arsem\\AppData\\Local\\Programs\\Python\\Python312\\Lib\\site-packages\\tqdm\\auto.py:21: TqdmWarning: IProgress not found. Please update jupyter and ipywidgets. See https://ipywidgets.readthedocs.io/en/stable/user_install.html\n",
      "  from .autonotebook import tqdm as notebook_tqdm\n"
     ]
    }
   ],
   "source": [
    "import shap\n",
    "import joblib\n",
    "import pandas as pd\n",
    "import matplotlib.pyplot as plt\n"
   ]
  },
  {
   "cell_type": "code",
   "execution_count": 7,
   "id": "79f22251",
   "metadata": {},
   "outputs": [
    {
     "name": "stderr",
     "output_type": "stream",
     "text": [
      "c:\\Users\\arsem\\AppData\\Local\\Programs\\Python\\Python312\\Lib\\site-packages\\sklearn\\base.py:380: InconsistentVersionWarning: Trying to unpickle estimator DecisionTreeClassifier from version 1.6.1 when using version 1.6.0. This might lead to breaking code or invalid results. Use at your own risk. For more info please refer to:\n",
      "https://scikit-learn.org/stable/model_persistence.html#security-maintainability-limitations\n",
      "  warnings.warn(\n",
      "c:\\Users\\arsem\\AppData\\Local\\Programs\\Python\\Python312\\Lib\\site-packages\\sklearn\\base.py:380: InconsistentVersionWarning: Trying to unpickle estimator RandomForestClassifier from version 1.6.1 when using version 1.6.0. This might lead to breaking code or invalid results. Use at your own risk. For more info please refer to:\n",
      "https://scikit-learn.org/stable/model_persistence.html#security-maintainability-limitations\n",
      "  warnings.warn(\n"
     ]
    }
   ],
   "source": [
    "# Load trained model\n",
    "model = joblib.load(\"models/random_forest_model.pkl\")  \n"
   ]
  },
  {
   "cell_type": "code",
   "execution_count": null,
   "id": "5776dc18",
   "metadata": {},
   "outputs": [],
   "source": [
    "import pandas as pd\n",
    "\n",
    "# Assumes X_test is a scipy.sparse.csr_matrix\n",
    "X_test_df = pd.DataFrame.sparse.from_spmatrix(\n",
    "    X_test,\n",
    "    columns=[f'feature_{i}' for i in range(X_test.shape[1])]\n",
    ")\n"
   ]
  },
  {
   "cell_type": "code",
   "execution_count": null,
   "id": "c4a39a35",
   "metadata": {},
   "outputs": [],
   "source": [
    "# Use a subset to avoid memory errors\n",
    "X_sample = X_test_df.sample(n=200, random_state=42)\n",
    "\n",
    "# Create SHAP explainer\n",
    "explainer = shap.TreeExplainer(model)\n",
    "\n",
    "# Compute SHAP values on the sample\n",
    "shap_values = explainer.shap_values(X_sample)\n",
    "\n",
    "# Plot summary\n",
    "shap.summary_plot(shap_values[1], X_sample)\n"
   ]
  }
 ],
 "metadata": {
  "kernelspec": {
   "display_name": "Python 3",
   "language": "python",
   "name": "python3"
  },
  "language_info": {
   "codemirror_mode": {
    "name": "ipython",
    "version": 3
   },
   "file_extension": ".py",
   "mimetype": "text/x-python",
   "name": "python",
   "nbconvert_exporter": "python",
   "pygments_lexer": "ipython3",
   "version": "3.12.4"
  }
 },
 "nbformat": 4,
 "nbformat_minor": 5
}
