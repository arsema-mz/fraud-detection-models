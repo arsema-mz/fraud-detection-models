{
 "cells": [
  {
   "cell_type": "markdown",
   "id": "f2a657db",
   "metadata": {},
   "source": [
    "## Task 3 - Model Explainability using SHAP\n",
    "\n",
    "### 1. Load model and data\n",
    "- Load the best model (RF)\n",
    "- Load or prepare X_test\n",
    "\n",
    "### 2. Initialize SHAP Explainer\n",
    "- Use `shap.Explainer(...)` or `TreeExplainer(...)`\n",
    "\n",
    "### 3. Compute SHAP values\n",
    "- Use a sample from X_test for speed\n",
    "\n",
    "### 4. Visualize\n",
    "- Summary Plot (global feature importance)\n",
    "- Bar Plot (feature ranking)\n",
    "- Force Plot (local explanation)\n",
    "\n",
    "### 5. Interpretation\n",
    "- Write markdown to explain what each plot shows\n",
    "- Discuss key features driving fraud predictions\n",
    "\n",
    "### 6. Save Plots\n",
    "- Save as PNGs for use in final PDF or slides\n"
   ]
  },
  {
   "cell_type": "code",
   "execution_count": 1,
   "id": "ccf7b3ba",
   "metadata": {},
   "outputs": [],
   "source": [
    "import os\n",
    "import sys\n",
    "\n",
    "# Change to project root\n",
    "os.chdir(\"..\")  #\n",
    "\n",
    "sys.path.append(\"src\")\n",
    "\n",
    "from load_datas import load_data\n",
    "\n",
    "# Load the data\n",
    "X_train_resampled, y_train, X_test, y_test = load_data()\n"
   ]
  },
  {
   "cell_type": "code",
   "execution_count": 2,
   "id": "0e5cd454",
   "metadata": {},
   "outputs": [
    {
     "name": "stderr",
     "output_type": "stream",
     "text": [
      "c:\\Users\\arsem\\AppData\\Local\\Programs\\Python\\Python312\\Lib\\site-packages\\tqdm\\auto.py:21: TqdmWarning: IProgress not found. Please update jupyter and ipywidgets. See https://ipywidgets.readthedocs.io/en/stable/user_install.html\n",
      "  from .autonotebook import tqdm as notebook_tqdm\n"
     ]
    }
   ],
   "source": [
    "import shap\n",
    "import joblib\n",
    "import pandas as pd\n",
    "import matplotlib.pyplot as plt\n"
   ]
  },
  {
   "cell_type": "code",
   "execution_count": 3,
   "id": "79f22251",
   "metadata": {},
   "outputs": [
    {
     "name": "stderr",
     "output_type": "stream",
     "text": [
      "c:\\Users\\arsem\\AppData\\Local\\Programs\\Python\\Python312\\Lib\\site-packages\\sklearn\\base.py:380: InconsistentVersionWarning: Trying to unpickle estimator DecisionTreeClassifier from version 1.6.1 when using version 1.6.0. This might lead to breaking code or invalid results. Use at your own risk. For more info please refer to:\n",
      "https://scikit-learn.org/stable/model_persistence.html#security-maintainability-limitations\n",
      "  warnings.warn(\n",
      "c:\\Users\\arsem\\AppData\\Local\\Programs\\Python\\Python312\\Lib\\site-packages\\sklearn\\base.py:380: InconsistentVersionWarning: Trying to unpickle estimator RandomForestClassifier from version 1.6.1 when using version 1.6.0. This might lead to breaking code or invalid results. Use at your own risk. For more info please refer to:\n",
      "https://scikit-learn.org/stable/model_persistence.html#security-maintainability-limitations\n",
      "  warnings.warn(\n"
     ]
    }
   ],
   "source": [
    "# Load trained model\n",
    "model = joblib.load(\"models/random_forest_model.pkl\")  \n"
   ]
  },
  {
   "cell_type": "markdown",
   "id": "ca968621",
   "metadata": {},
   "source": []
  },
  {
   "cell_type": "code",
   "execution_count": 4,
   "id": "3237ad93",
   "metadata": {},
   "outputs": [
    {
     "name": "stderr",
     "output_type": "stream",
     "text": [
      "c:\\Users\\arsem\\AppData\\Local\\Programs\\Python\\Python312\\Lib\\site-packages\\shap\\plots\\_beeswarm.py:733: UserWarning: Attempting to set identical low and high xlims makes transformation singular; automatically expanding.\n",
      "  plt.xlim((slow, shigh))\n",
      "c:\\Users\\arsem\\AppData\\Local\\Programs\\Python\\Python312\\Lib\\site-packages\\shap\\plots\\_beeswarm.py:753: UserWarning: Attempting to set identical low and high xlims makes transformation singular; automatically expanding.\n",
      "  plt.xlim((slow, shigh))\n"
     ]
    },
    {
     "data": {
      "image/png": "[encoded data removed]",
      "text/plain": [
       "<Figure size 1600x900 with 2 Axes>"
      ]
     },
     "metadata": {},
     "output_type": "display_data"
    }
   ],
   "source": [
    "X_sample_sparse = X_test[:1]\n",
    "X_sample_array = X_sample_sparse.toarray()\n",
    "feature_names = [f\"feature_{i}\" for i in range(X_sample_array.shape[1])]\n",
    "X_sample_df = pd.DataFrame(X_sample_array, columns=feature_names)\n",
    "\n",
    "explainer = shap.Explainer(model, X_sample_df)\n",
    "shap_values = explainer(X_sample_df)\n",
    "shap.summary_plot(shap_values, X_sample_df, max_display=10)\n"
   ]
  },
  {
   "cell_type": "code",
   "execution_count": 5,
   "id": "12f005ed",
   "metadata": {},
   "outputs": [
    {
     "name": "stdout",
     "output_type": "stream",
     "text": [
      "(30223, 111611)\n"
     ]
    }
   ],
   "source": [
    "print(X_test.shape)"
   ]
  },
  {
   "cell_type": "code",
   "execution_count": 11,
   "id": "382e8bd1",
   "metadata": {},
   "outputs": [
    {
     "name": "stdout",
     "output_type": "stream",
     "text": [
      "<class 'scipy.sparse._csr.csr_matrix'>\n",
      "float64\n"
     ]
    }
   ],
   "source": [
    "print(type(X_sample_sparse))\n",
    "print(X_sample_sparse.dtype)"
   ]
  },
  {
   "cell_type": "code",
   "execution_count": null,
   "id": "49c1e116",
   "metadata": {},
   "outputs": [],
   "source": [
    "# Select multiple samples from the sparse matrix\n",
    "X_sample_sparse = X_test[:5]  # Change to 5 samples\n",
    "X_sample_array = X_sample_sparse.toarray()\n",
    "\n",
    "# Create feature names\n",
    "feature_names = [f\"feature_{i}\" for i in range(X_sample_array.shape[1])]\n",
    "\n",
    "# Create a DataFrame for the samples\n",
    "X_sample_df = pd.DataFrame(X_sample_array, columns=feature_names)\n",
    "\n",
    "# Initialize the SHAP explainer\n",
    "explainer = shap.Explainer(model, X_sample_df)\n",
    "\n",
    "# Calculate SHAP values for the selected samples\n",
    "shap_values = explainer(X_sample_df)\n",
    "\n",
    "# Create the summary plot\n",
    "shap.summary_plot(shap_values, X_sample_df, max_display=10)"
   ]
  },
  {
   "cell_type": "markdown",
   "id": "403bde2a",
   "metadata": {},
   "source": [
    "## SHAP (SHapley Additive exPlanations):\n",
    " plots provide insights into model predictions by illustrating the contribution of each feature to the output. Random SHAP plots can be used to visualize a diverse set of samples, showcasing how different features impact predictions across various instances.\n",
    "\n",
    "### Feature Importance: \n",
    "Each plot highlights which features are most influential in driving the model's predictions, allowing stakeholders to understand the model's decision-making process.\n",
    "\n",
    "### Distribution of SHAP Values: \n",
    "The plots typically display the distribution of SHAP values for selected features, illustrating how positive and negative contributions vary among different predictions.\n",
    "\n",
    "### Global vs. Local Interpretability: \n",
    "While some plots may focus on individual predictions (local interpretability), others aggregate information to provide a broader view of feature impacts across the dataset (global interpretability).\n",
    "\n",
    "### Identifying Patterns: \n",
    "By examining multiple random SHAP plots, users can identify patterns and trends, aiding in model validation and refinement."
   ]
  }
 ],
 "metadata": {
  "kernelspec": {
   "display_name": "Python 3",
   "language": "python",
   "name": "python3"
  },
  "language_info": {
   "codemirror_mode": {
    "name": "ipython",
    "version": 3
   },
   "file_extension": ".py",
   "mimetype": "text/x-python",
   "name": "python",
   "nbconvert_exporter": "python",
   "pygments_lexer": "ipython3",
   "version": "3.12.4"
  }
 },
 "nbformat": 4,
 "nbformat_minor": 5
}
